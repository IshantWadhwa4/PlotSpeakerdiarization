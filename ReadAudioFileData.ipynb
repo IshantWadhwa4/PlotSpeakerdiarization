{
 "cells": [
  {
   "cell_type": "code",
   "execution_count": 31,
   "metadata": {},
   "outputs": [],
   "source": [
    "import wave\n",
    "import numpy as np\n",
    "import os\n",
    "import pandas as pd"
   ]
  },
  {
   "cell_type": "code",
   "execution_count": 32,
   "metadata": {},
   "outputs": [],
   "source": [
    "def getWaveInfo(filePath):\n",
    "    w = wave.open(filePath,'rb')\n",
    "    properties = {'channels':w.getnchannels(), 'widthBytes':w.getsampwidth(),\n",
    "            'Framerate':w.getframerate(), 'frames': w.getnframes(),\n",
    "            'Duration': w.getnframes() / float(w.getframerate())} \n",
    "    w.close()\n",
    "    return properties"
   ]
  },
  {
   "cell_type": "code",
   "execution_count": 33,
   "metadata": {},
   "outputs": [],
   "source": [
    "folderpath = './data/audio'"
   ]
  },
  {
   "cell_type": "code",
   "execution_count": 34,
   "metadata": {},
   "outputs": [],
   "source": [
    "fileName,duration,signal,time = [],[],[],[]\n",
    "for file in os.listdir(folderpath):\n",
    "    filePath = folderpath + '/' + file\n",
    "    fileInfo = getWaveInfo(filePath)\n",
    "    duration.append(fileInfo['Duration'])\n",
    "    fileFrame = wave.open(filePath,\"r\")\n",
    "    fileFrame = fileFrame.readframes(-1)\n",
    "    file_signal = np.frombuffer(fileFrame,'int32')\n",
    "    file_time = np.linspace(start=0,stop=len(file_signal)/fileInfo['Framerate'],num=len(file_signal))\n",
    "    signal.append(file_signal)\n",
    "    time.append(file_time)\n",
    "    fileName.append(file)"
   ]
  },
  {
   "cell_type": "code",
   "execution_count": 35,
   "metadata": {},
   "outputs": [],
   "source": [
    "%run ReadNPZandAudioData.ipynb"
   ]
  },
  {
   "cell_type": "code",
   "execution_count": 57,
   "metadata": {},
   "outputs": [],
   "source": [
    "AudioFileData = pd.DataFrame({'FileName':fileName,'Duration':duration,\n",
    "                             'Signal':signal,'Time':time , 'Label':train_cluster_id})"
   ]
  },
  {
   "cell_type": "code",
   "execution_count": 58,
   "metadata": {},
   "outputs": [
    {
     "data": {
      "text/html": [
       "<div>\n",
       "<style scoped>\n",
       "    .dataframe tbody tr th:only-of-type {\n",
       "        vertical-align: middle;\n",
       "    }\n",
       "\n",
       "    .dataframe tbody tr th {\n",
       "        vertical-align: top;\n",
       "    }\n",
       "\n",
       "    .dataframe thead th {\n",
       "        text-align: right;\n",
       "    }\n",
       "</style>\n",
       "<table border=\"1\" class=\"dataframe\">\n",
       "  <thead>\n",
       "    <tr style=\"text-align: right;\">\n",
       "      <th></th>\n",
       "      <th>FileName</th>\n",
       "      <th>Duration</th>\n",
       "      <th>Signal</th>\n",
       "      <th>Time</th>\n",
       "      <th>Label</th>\n",
       "    </tr>\n",
       "  </thead>\n",
       "  <tbody>\n",
       "    <tr>\n",
       "      <th>0</th>\n",
       "      <td>ES2010d1.wav</td>\n",
       "      <td>120.0</td>\n",
       "      <td>[1310740, 1376277, 589833, 655370, 917518, 124...</td>\n",
       "      <td>[0.0, 6.250003255210029e-05, 0.000125000065104...</td>\n",
       "      <td>[[2.0, 0.0], [2.0, 0.8], [2.0, 1.6], [1.0, 2.4...</td>\n",
       "    </tr>\n",
       "    <tr>\n",
       "      <th>1</th>\n",
       "      <td>ES2010d2.wav</td>\n",
       "      <td>120.0</td>\n",
       "      <td>[-524297, -2555944, -5374035, -6750312, -67503...</td>\n",
       "      <td>[0.0, 6.250003255210029e-05, 0.000125000065104...</td>\n",
       "      <td>[[4.0, 0.0], [4.0, 0.8], [4.0, 1.6], [4.0, 2.4...</td>\n",
       "    </tr>\n",
       "    <tr>\n",
       "      <th>2</th>\n",
       "      <td>ES2010d3.wav</td>\n",
       "      <td>120.0</td>\n",
       "      <td>[50004731, 51970841, 51184397, 49545972, 46465...</td>\n",
       "      <td>[0.0, 6.250003255210029e-05, 0.000125000065104...</td>\n",
       "      <td>[[2.0, 0.0], [0.0, 0.8], [0.0, 1.6], [0.0, 2.4...</td>\n",
       "    </tr>\n",
       "    <tr>\n",
       "      <th>3</th>\n",
       "      <td>ES2010d4.wav</td>\n",
       "      <td>120.0</td>\n",
       "      <td>[12583104, 13304011, 14090455, 12976326, 10944...</td>\n",
       "      <td>[0.0, 6.250003255210029e-05, 0.000125000065104...</td>\n",
       "      <td>[[1.0, 0.0], [1.0, 0.8], [0.0, 1.6], [1.0, 2.4...</td>\n",
       "    </tr>\n",
       "    <tr>\n",
       "      <th>4</th>\n",
       "      <td>ES2010d5.wav</td>\n",
       "      <td>120.0</td>\n",
       "      <td>[-13500623, -12320957, -11010217, -9502866, -7...</td>\n",
       "      <td>[0.0, 6.250003255210029e-05, 0.000125000065104...</td>\n",
       "      <td>[[1.0, 0.0], [1.0, 0.8], [1.0, 1.6], [1.0, 2.4...</td>\n",
       "    </tr>\n",
       "    <tr>\n",
       "      <th>5</th>\n",
       "      <td>ES2010d6.wav</td>\n",
       "      <td>120.0</td>\n",
       "      <td>[-21037378, -19267879, -13566160, -5308498, -2...</td>\n",
       "      <td>[0.0, 6.250003255210029e-05, 0.000125000065104...</td>\n",
       "      <td>[[2.0, 0.0], [2.0, 0.8], [2.0, 1.6], [2.0, 2.4...</td>\n",
       "    </tr>\n",
       "    <tr>\n",
       "      <th>6</th>\n",
       "      <td>ES2010d7.wav</td>\n",
       "      <td>120.0</td>\n",
       "      <td>[-4915276, -5767257, -5636183, -6226016, -5374...</td>\n",
       "      <td>[0.0, 6.250003255210029e-05, 0.000125000065104...</td>\n",
       "      <td>[[2.0, 0.0], [2.0, 0.8], [2.0, 1.6], [2.0, 2.4...</td>\n",
       "    </tr>\n",
       "    <tr>\n",
       "      <th>7</th>\n",
       "      <td>ES2010d8.wav</td>\n",
       "      <td>120.0</td>\n",
       "      <td>[5111886, 5308497, 5636182, 5439571, 4849738, ...</td>\n",
       "      <td>[0.0, 6.250003255210029e-05, 0.000125000065104...</td>\n",
       "      <td>[[1.0, 0.0], [1.0, 0.8], [1.0, 1.6], [1.0, 2.4...</td>\n",
       "    </tr>\n",
       "    <tr>\n",
       "      <th>8</th>\n",
       "      <td>ES2010d9.wav</td>\n",
       "      <td>0.8</td>\n",
       "      <td>[196611, 2293795, 131074, 2883628, 1048592, 38...</td>\n",
       "      <td>[0.0, 6.250488319399954e-05, 0.000125009766387...</td>\n",
       "      <td>[[4.0, 0.0]]</td>\n",
       "    </tr>\n",
       "  </tbody>\n",
       "</table>\n",
       "</div>"
      ],
      "text/plain": [
       "       FileName  Duration                                             Signal  \\\n",
       "0  ES2010d1.wav     120.0  [1310740, 1376277, 589833, 655370, 917518, 124...   \n",
       "1  ES2010d2.wav     120.0  [-524297, -2555944, -5374035, -6750312, -67503...   \n",
       "2  ES2010d3.wav     120.0  [50004731, 51970841, 51184397, 49545972, 46465...   \n",
       "3  ES2010d4.wav     120.0  [12583104, 13304011, 14090455, 12976326, 10944...   \n",
       "4  ES2010d5.wav     120.0  [-13500623, -12320957, -11010217, -9502866, -7...   \n",
       "5  ES2010d6.wav     120.0  [-21037378, -19267879, -13566160, -5308498, -2...   \n",
       "6  ES2010d7.wav     120.0  [-4915276, -5767257, -5636183, -6226016, -5374...   \n",
       "7  ES2010d8.wav     120.0  [5111886, 5308497, 5636182, 5439571, 4849738, ...   \n",
       "8  ES2010d9.wav       0.8  [196611, 2293795, 131074, 2883628, 1048592, 38...   \n",
       "\n",
       "                                                Time  \\\n",
       "0  [0.0, 6.250003255210029e-05, 0.000125000065104...   \n",
       "1  [0.0, 6.250003255210029e-05, 0.000125000065104...   \n",
       "2  [0.0, 6.250003255210029e-05, 0.000125000065104...   \n",
       "3  [0.0, 6.250003255210029e-05, 0.000125000065104...   \n",
       "4  [0.0, 6.250003255210029e-05, 0.000125000065104...   \n",
       "5  [0.0, 6.250003255210029e-05, 0.000125000065104...   \n",
       "6  [0.0, 6.250003255210029e-05, 0.000125000065104...   \n",
       "7  [0.0, 6.250003255210029e-05, 0.000125000065104...   \n",
       "8  [0.0, 6.250488319399954e-05, 0.000125009766387...   \n",
       "\n",
       "                                               Label  \n",
       "0  [[2.0, 0.0], [2.0, 0.8], [2.0, 1.6], [1.0, 2.4...  \n",
       "1  [[4.0, 0.0], [4.0, 0.8], [4.0, 1.6], [4.0, 2.4...  \n",
       "2  [[2.0, 0.0], [0.0, 0.8], [0.0, 1.6], [0.0, 2.4...  \n",
       "3  [[1.0, 0.0], [1.0, 0.8], [0.0, 1.6], [1.0, 2.4...  \n",
       "4  [[1.0, 0.0], [1.0, 0.8], [1.0, 1.6], [1.0, 2.4...  \n",
       "5  [[2.0, 0.0], [2.0, 0.8], [2.0, 1.6], [2.0, 2.4...  \n",
       "6  [[2.0, 0.0], [2.0, 0.8], [2.0, 1.6], [2.0, 2.4...  \n",
       "7  [[1.0, 0.0], [1.0, 0.8], [1.0, 1.6], [1.0, 2.4...  \n",
       "8                                       [[4.0, 0.0]]  "
      ]
     },
     "execution_count": 58,
     "metadata": {},
     "output_type": "execute_result"
    }
   ],
   "source": [
    "AudioFileData"
   ]
  },
  {
   "cell_type": "code",
   "execution_count": 60,
   "metadata": {},
   "outputs": [
    {
     "data": {
      "text/plain": [
       "1920000"
      ]
     },
     "execution_count": 60,
     "metadata": {},
     "output_type": "execute_result"
    }
   ],
   "source": [
    "len(AudioFileData['Signal'][0])"
   ]
  },
  {
   "cell_type": "code",
   "execution_count": 63,
   "metadata": {},
   "outputs": [
    {
     "data": {
      "text/plain": [
       "array([2. , 0.8])"
      ]
     },
     "execution_count": 63,
     "metadata": {},
     "output_type": "execute_result"
    }
   ],
   "source": [
    "AudioFileData['Label'][0][1]"
   ]
  },
  {
   "cell_type": "code",
   "execution_count": 64,
   "metadata": {},
   "outputs": [],
   "source": [
    "label,timeStamp = [],[]\n",
    "for i in range(len(AudioFileData['Label'][0])):\n",
    "    label.append(AudioFileData['Label'][0][i][0])\n",
    "    timeStamp.append(AudioFileData['Label'][0][i][1])\n",
    "    \n",
    "    \n",
    "    "
   ]
  },
  {
   "cell_type": "code",
   "execution_count": 66,
   "metadata": {},
   "outputs": [
    {
     "data": {
      "text/plain": [
       "150"
      ]
     },
     "execution_count": 66,
     "metadata": {},
     "output_type": "execute_result"
    }
   ],
   "source": [
    "len(label)"
   ]
  },
  {
   "cell_type": "code",
   "execution_count": 68,
   "metadata": {},
   "outputs": [
    {
     "data": {
      "text/plain": [
       "150"
      ]
     },
     "execution_count": 68,
     "metadata": {},
     "output_type": "execute_result"
    }
   ],
   "source": [
    "len(timeStamp)"
   ]
  },
  {
   "cell_type": "code",
   "execution_count": 69,
   "metadata": {},
   "outputs": [],
   "source": [
    "import seaborn as sns"
   ]
  },
  {
   "cell_type": "code",
   "execution_count": null,
   "metadata": {},
   "outputs": [],
   "source": []
  }
 ],
 "metadata": {
  "kernelspec": {
   "display_name": "Python 3",
   "language": "python",
   "name": "python3"
  },
  "language_info": {
   "codemirror_mode": {
    "name": "ipython",
    "version": 3
   },
   "file_extension": ".py",
   "mimetype": "text/x-python",
   "name": "python",
   "nbconvert_exporter": "python",
   "pygments_lexer": "ipython3",
   "version": "3.7.1"
  }
 },
 "nbformat": 4,
 "nbformat_minor": 2
}
