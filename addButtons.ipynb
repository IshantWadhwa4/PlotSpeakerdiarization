{
 "cells": [
  {
   "cell_type": "code",
   "execution_count": 2,
   "metadata": {},
   "outputs": [
    {
     "name": "stdout",
     "output_type": "stream",
     "text": [
      "Populating the interactive namespace from numpy and matplotlib\n"
     ]
    },
    {
     "name": "stderr",
     "output_type": "stream",
     "text": [
      "C:\\Users\\ishant\\AppData\\Local\\Continuum\\anaconda3\\lib\\site-packages\\IPython\\core\\magics\\pylab.py:160: UserWarning: pylab import has clobbered these variables: ['time']\n",
      "`%matplotlib` prevents importing * from pylab and numpy\n",
      "  \"\\n`%matplotlib` prevents importing * from pylab and numpy\"\n"
     ]
    }
   ],
   "source": [
    "%run visualization.ipynb"
   ]
  },
  {
   "cell_type": "code",
   "execution_count": 2,
   "metadata": {
    "scrolled": true
   },
   "outputs": [
    {
     "name": "stdout",
     "output_type": "stream",
     "text": [
      "Requirement already satisfied: ipywidgets in c:\\users\\ishant\\appdata\\local\\continuum\\anaconda3\\lib\\site-packages (7.4.2)\n",
      "Requirement already satisfied: traitlets>=4.3.1 in c:\\users\\ishant\\appdata\\local\\continuum\\anaconda3\\lib\\site-packages (from ipywidgets) (4.3.2)\n",
      "Requirement already satisfied: widgetsnbextension~=3.4.0 in c:\\users\\ishant\\appdata\\local\\continuum\\anaconda3\\lib\\site-packages (from ipywidgets) (3.4.2)\n",
      "Requirement already satisfied: nbformat>=4.2.0 in c:\\users\\ishant\\appdata\\local\\continuum\\anaconda3\\lib\\site-packages (from ipywidgets) (4.4.0)\n",
      "Requirement already satisfied: ipython>=4.0.0; python_version >= \"3.3\" in c:\\users\\ishant\\appdata\\local\\continuum\\anaconda3\\lib\\site-packages (from ipywidgets) (7.2.0)\n",
      "Requirement already satisfied: ipykernel>=4.5.1 in c:\\users\\ishant\\appdata\\local\\continuum\\anaconda3\\lib\\site-packages (from ipywidgets) (5.1.0)\n",
      "Requirement already satisfied: decorator in c:\\users\\ishant\\appdata\\local\\continuum\\anaconda3\\lib\\site-packages (from traitlets>=4.3.1->ipywidgets) (4.3.0)\n",
      "Requirement already satisfied: ipython-genutils in c:\\users\\ishant\\appdata\\local\\continuum\\anaconda3\\lib\\site-packages (from traitlets>=4.3.1->ipywidgets) (0.2.0)\n",
      "Requirement already satisfied: six in c:\\users\\ishant\\appdata\\local\\continuum\\anaconda3\\lib\\site-packages (from traitlets>=4.3.1->ipywidgets) (1.12.0)\n",
      "Requirement already satisfied: notebook>=4.4.1 in c:\\users\\ishant\\appdata\\local\\continuum\\anaconda3\\lib\\site-packages (from widgetsnbextension~=3.4.0->ipywidgets) (5.7.4)\n",
      "Requirement already satisfied: jupyter-core in c:\\users\\ishant\\appdata\\local\\continuum\\anaconda3\\lib\\site-packages (from nbformat>=4.2.0->ipywidgets) (4.4.0)\n",
      "Requirement already satisfied: jsonschema!=2.5.0,>=2.4 in c:\\users\\ishant\\appdata\\local\\continuum\\anaconda3\\lib\\site-packages (from nbformat>=4.2.0->ipywidgets) (2.6.0)\n",
      "Requirement already satisfied: pickleshare in c:\\users\\ishant\\appdata\\local\\continuum\\anaconda3\\lib\\site-packages (from ipython>=4.0.0; python_version >= \"3.3\"->ipywidgets) (0.7.5)\n",
      "Requirement already satisfied: setuptools>=18.5 in c:\\users\\ishant\\appdata\\local\\continuum\\anaconda3\\lib\\site-packages (from ipython>=4.0.0; python_version >= \"3.3\"->ipywidgets) (40.6.3)\n",
      "Requirement already satisfied: backcall in c:\\users\\ishant\\appdata\\local\\continuum\\anaconda3\\lib\\site-packages (from ipython>=4.0.0; python_version >= \"3.3\"->ipywidgets) (0.1.0)\n",
      "Requirement already satisfied: pygments in c:\\users\\ishant\\appdata\\local\\continuum\\anaconda3\\lib\\site-packages (from ipython>=4.0.0; python_version >= \"3.3\"->ipywidgets) (2.3.1)\n",
      "Requirement already satisfied: jedi>=0.10 in c:\\users\\ishant\\appdata\\local\\continuum\\anaconda3\\lib\\site-packages (from ipython>=4.0.0; python_version >= \"3.3\"->ipywidgets) (0.13.2)\n",
      "Requirement already satisfied: prompt-toolkit<2.1.0,>=2.0.0 in c:\\users\\ishant\\appdata\\local\\continuum\\anaconda3\\lib\\site-packages (from ipython>=4.0.0; python_version >= \"3.3\"->ipywidgets) (2.0.7)\n",
      "Requirement already satisfied: colorama; sys_platform == \"win32\" in c:\\users\\ishant\\appdata\\local\\continuum\\anaconda3\\lib\\site-packages (from ipython>=4.0.0; python_version >= \"3.3\"->ipywidgets) (0.4.1)\n",
      "Requirement already satisfied: jupyter-client in c:\\users\\ishant\\appdata\\local\\continuum\\anaconda3\\lib\\site-packages (from ipykernel>=4.5.1->ipywidgets) (5.2.4)\n",
      "Requirement already satisfied: tornado>=4.2 in c:\\users\\ishant\\appdata\\local\\continuum\\anaconda3\\lib\\site-packages (from ipykernel>=4.5.1->ipywidgets) (5.1.1)\n",
      "Requirement already satisfied: terminado>=0.8.1 in c:\\users\\ishant\\appdata\\local\\continuum\\anaconda3\\lib\\site-packages (from notebook>=4.4.1->widgetsnbextension~=3.4.0->ipywidgets) (0.8.1)\n",
      "Requirement already satisfied: Send2Trash in c:\\users\\ishant\\appdata\\local\\continuum\\anaconda3\\lib\\site-packages (from notebook>=4.4.1->widgetsnbextension~=3.4.0->ipywidgets) (1.5.0)\n",
      "Requirement already satisfied: prometheus-client in c:\\users\\ishant\\appdata\\local\\continuum\\anaconda3\\lib\\site-packages (from notebook>=4.4.1->widgetsnbextension~=3.4.0->ipywidgets) (0.5.0)\n",
      "Requirement already satisfied: pyzmq>=17 in c:\\users\\ishant\\appdata\\local\\continuum\\anaconda3\\lib\\site-packages (from notebook>=4.4.1->widgetsnbextension~=3.4.0->ipywidgets) (17.1.2)\n",
      "Requirement already satisfied: jinja2 in c:\\users\\ishant\\appdata\\local\\continuum\\anaconda3\\lib\\site-packages (from notebook>=4.4.1->widgetsnbextension~=3.4.0->ipywidgets) (2.10)\n",
      "Requirement already satisfied: nbconvert in c:\\users\\ishant\\appdata\\local\\continuum\\anaconda3\\lib\\site-packages (from notebook>=4.4.1->widgetsnbextension~=3.4.0->ipywidgets) (5.4.0)\n",
      "Requirement already satisfied: parso>=0.3.0 in c:\\users\\ishant\\appdata\\local\\continuum\\anaconda3\\lib\\site-packages (from jedi>=0.10->ipython>=4.0.0; python_version >= \"3.3\"->ipywidgets) (0.3.1)\n",
      "Requirement already satisfied: wcwidth in c:\\users\\ishant\\appdata\\local\\continuum\\anaconda3\\lib\\site-packages (from prompt-toolkit<2.1.0,>=2.0.0->ipython>=4.0.0; python_version >= \"3.3\"->ipywidgets) (0.1.7)\n",
      "Requirement already satisfied: python-dateutil>=2.1 in c:\\users\\ishant\\appdata\\local\\continuum\\anaconda3\\lib\\site-packages (from jupyter-client->ipykernel>=4.5.1->ipywidgets) (2.7.5)\n",
      "Requirement already satisfied: MarkupSafe>=0.23 in c:\\users\\ishant\\appdata\\local\\continuum\\anaconda3\\lib\\site-packages (from jinja2->notebook>=4.4.1->widgetsnbextension~=3.4.0->ipywidgets) (1.1.0)\n",
      "Requirement already satisfied: mistune>=0.8.1 in c:\\users\\ishant\\appdata\\local\\continuum\\anaconda3\\lib\\site-packages (from nbconvert->notebook>=4.4.1->widgetsnbextension~=3.4.0->ipywidgets) (0.8.4)\n",
      "Requirement already satisfied: entrypoints>=0.2.2 in c:\\users\\ishant\\appdata\\local\\continuum\\anaconda3\\lib\\site-packages (from nbconvert->notebook>=4.4.1->widgetsnbextension~=3.4.0->ipywidgets) (0.2.3)\n",
      "Requirement already satisfied: bleach in c:\\users\\ishant\\appdata\\local\\continuum\\anaconda3\\lib\\site-packages (from nbconvert->notebook>=4.4.1->widgetsnbextension~=3.4.0->ipywidgets) (3.0.2)\n",
      "Requirement already satisfied: pandocfilters>=1.4.1 in c:\\users\\ishant\\appdata\\local\\continuum\\anaconda3\\lib\\site-packages (from nbconvert->notebook>=4.4.1->widgetsnbextension~=3.4.0->ipywidgets) (1.4.2)\n",
      "Requirement already satisfied: testpath in c:\\users\\ishant\\appdata\\local\\continuum\\anaconda3\\lib\\site-packages (from nbconvert->notebook>=4.4.1->widgetsnbextension~=3.4.0->ipywidgets) (0.4.2)\n",
      "Requirement already satisfied: defusedxml in c:\\users\\ishant\\appdata\\local\\continuum\\anaconda3\\lib\\site-packages (from nbconvert->notebook>=4.4.1->widgetsnbextension~=3.4.0->ipywidgets) (0.5.0)\n",
      "Requirement already satisfied: webencodings in c:\\users\\ishant\\appdata\\local\\continuum\\anaconda3\\lib\\site-packages (from bleach->nbconvert->notebook>=4.4.1->widgetsnbextension~=3.4.0->ipywidgets) (0.5.1)\n"
     ]
    }
   ],
   "source": [
    "!pip install ipywidgets"
   ]
  },
  {
   "cell_type": "code",
   "execution_count": 4,
   "metadata": {},
   "outputs": [
    {
     "name": "stderr",
     "output_type": "stream",
     "text": [
      "Enabling notebook extension jupyter-js-widgets/extension...\n",
      "      - Validating: ok\n"
     ]
    },
    {
     "name": "stdout",
     "output_type": "stream",
     "text": [
      "npm notice \n",
      "npm notice package: @jupyter-widgets/jupyterlab-manager@1.1.0\n",
      "npm notice === Tarball Contents === \n",
      "npm notice 2.3kB  package.json        \n",
      "npm notice 1.5kB  LICENSE             \n",
      "npm notice 1.9kB  README.md           \n",
      "npm notice 277B   lib/index.d.ts      \n",
      "npm notice 380B   lib/index.js        \n",
      "npm notice 5.9kB  lib/manager.d.ts    \n",
      "npm notice 14.5kB lib/manager.js      \n",
      "npm notice 1.9kB  lib/output.d.ts     \n",
      "npm notice 5.2kB  lib/output.js       \n",
      "npm notice 830B   lib/plugin.d.ts     \n",
      "npm notice 7.8kB  lib/plugin.js       \n",
      "npm notice 956B   lib/renderer.d.ts   \n",
      "npm notice 3.3kB  lib/renderer.js     \n",
      "npm notice 216B   lib/semvercache.d.ts\n",
      "npm notice 862B   lib/semvercache.js  \n",
      "npm notice 375B   schema/plugin.json  \n",
      "npm notice === Tarball Details === \n",
      "npm notice name:          @jupyter-widgets/jupyterlab-manager         \n",
      "npm notice version:       1.1.0                                       \n",
      "npm notice filename:      jupyter-widgets-jupyterlab-manager-1.1.0.tgz\n",
      "npm notice package size:  12.2 kB                                     \n",
      "npm notice unpacked size: 48.3 kB                                     \n",
      "npm notice shasum:        6196b9e3df314d488180fb5ed3bfb11df2dfdeaf    \n",
      "npm notice integrity:     sha512-2dKdzl43nMvmr[...]53y1/ADuNbzhg==    \n",
      "npm notice total files:   16                                          \n",
      "npm notice \n",
      "jupyter-widgets-jupyterlab-manager-1.1.0.tgz\n",
      "npm notice \n",
      "npm notice package: @jupyter-widgets/jupyterlab-manager@0.38.1\n",
      "npm notice === Tarball Contents === \n",
      "npm notice 2.0kB package.json        \n",
      "npm notice 1.5kB LICENSE             \n",
      "npm notice 2.0kB README.md           \n",
      "npm notice 131B  lib/index.d.ts      \n",
      "npm notice 410B  lib/index.js        \n",
      "npm notice 2.5kB lib/manager.d.ts    \n",
      "npm notice 6.2kB lib/manager.js      \n",
      "npm notice 1.9kB lib/output.d.ts     \n",
      "npm notice 6.0kB lib/output.js       \n",
      "npm notice 1.1kB lib/plugin.d.ts     \n",
      "npm notice 3.6kB lib/plugin.js       \n",
      "npm notice 829B  lib/renderer.d.ts   \n",
      "npm notice 3.0kB lib/renderer.js     \n",
      "npm notice 216B  lib/semvercache.d.ts\n",
      "npm notice 972B  lib/semvercache.js  \n",
      "npm notice === Tarball Details === \n",
      "npm notice name:          @jupyter-widgets/jupyterlab-manager          \n",
      "npm notice version:       0.38.1                                       \n",
      "npm notice filename:      jupyter-widgets-jupyterlab-manager-0.38.1.tgz\n",
      "npm notice package size:  8.5 kB                                       \n",
      "npm notice unpacked size: 32.3 kB                                      \n",
      "npm notice shasum:        1b1e17c929065bd2a93057b2378562c10c3db6c0     \n",
      "npm notice integrity:     sha512-JutIwjs2jq6qW[...]Phr69YQ+qQZ/Q==     \n",
      "npm notice total files:   15                                           \n",
      "npm notice \n",
      "jupyter-widgets-jupyterlab-manager-0.38.1.tgz\n",
      "yarn install v1.9.4\n",
      "info No lockfile found.\n",
      "[1/5] Validating package.json...\n",
      "[2/5] Resolving packages...\n",
      "warning @jupyterlab/application > @jupyterlab/apputils > react > fbjs > core-js@1.2.7: core-js@<3 is no longer maintained and not recommended for usage due to the number of issues. Please, upgrade your dependencies to the actual version of core-js@3.\n",
      "warning @jupyterlab/application > @jupyterlab/coreutils > comment-json > json-parser@1.1.5: `json-parser` is deprecated. Please use `comment-json` instead\n",
      "warning @jupyterlab/faq-extension@0.19.1: The JupyterLab FAQ extension is no longer developed and is removed from JupyterLab 1.0.\n",
      "warning @jupyterlab/json-extension > react-json-tree > babel-runtime > core-js@2.6.11: core-js@<3 is no longer maintained and not recommended for usage due to the number of issues. Please, upgrade your dependencies to the actual version of core-js@3.\n",
      "warning css-loader > cssnano > autoprefixer > browserslist@1.7.7: Browserslist 2 could fail on reading Browserslist >3.0 config used in other tools.\n",
      "warning css-loader > cssnano > postcss-merge-rules > browserslist@1.7.7: Browserslist 2 could fail on reading Browserslist >3.0 config used in other tools.\n",
      "warning css-loader > cssnano > postcss-merge-rules > caniuse-api > browserslist@1.7.7: Browserslist 2 could fail on reading Browserslist >3.0 config used in other tools.\n",
      "[3/5] Fetching packages...\n",
      "(node:22728) [DEP0005] DeprecationWarning: Buffer() is deprecated due to security and usability issues. Please use the Buffer.alloc(), Buffer.allocUnsafe(), or Buffer.from() methods instead.\n",
      "info fsevents@1.2.11: The platform \"win32\" is incompatible with this module.\n",
      "info \"fsevents@1.2.11\" is an optional dependency and failed compatibility check. Excluding it from installation.\n",
      "[4/5] Linking dependencies...\n",
      "warning \"@jupyterlab/vdom-extension > @nteract/transform-vdom@1.1.1\" has incorrect peer dependency \"react@^15.6.1\".\n",
      "warning \"@jupyterlab/vega4-extension > vega-embed > vega-lite@2.7.0\" has unmet peer dependency \"vega@^3.0.0 || ^4.0.0\".\n",
      "warning \"@jupyterlab/vega4-extension > vega-embed > vega-themes@2.7.1\" has unmet peer dependency \"vega@*\".\n",
      "warning \"@jupyter-widgets/jupyterlab-manager > @jupyter-widgets/base > @jupyterlab/services > ws@7.2.1\" has unmet peer dependency \"bufferutil@^4.0.1\".\n",
      "warning \"@jupyter-widgets/jupyterlab-manager > @jupyter-widgets/base > @jupyterlab/services > ws@7.2.1\" has unmet peer dependency \"utf-8-validate@^5.0.2\".\n",
      "[5/5] Building fresh packages...\n",
      "success Saved lockfile.\n",
      "Done in 162.91s.\n",
      "yarn run v1.9.4\n",
      "$ webpack\n",
      "\n",
      "\n",
      "#\n",
      "# Fatal error in , line 0\n",
      "# API fatal error handler returned after process out of memory on the background thread\n",
      "#\n",
      "#\n",
      "#\n",
      "#FailureMessage Object: 00000058BD1FA8E0error Command failed with exit code 3221225477.\n",
      "info Visit https://yarnpkg.com/en/docs/cli/run for documentation about this command.\n"
     ]
    },
    {
     "name": "stderr",
     "output_type": "stream",
     "text": [
      "Node v10.15.3\n",
      "\n",
      "> \"C:\\Program Files\\nodejs\\npm.CMD\" pack @jupyter-widgets/jupyterlab-manager\n",
      "Incompatible extension:\n",
      "\n",
      "\"@jupyter-widgets/jupyterlab-manager@1.1.0\" is not compatible with the current JupyterLab\n",
      "Conflicting Dependencies:\n",
      "JupyterLab              Extension        Package\n",
      ">=0.19.1 <0.20.0        >=1.2.0 <2.0.0   @jupyterlab/application\n",
      ">=2.2.1 <3.0.0          >=3.2.0 <4.0.0   @jupyterlab/coreutils\n",
      ">=0.19.2 <0.20.0        >=1.2.0 <2.0.0   @jupyterlab/notebook\n",
      ">=0.19.1 <0.20.0        >=1.2.0 <2.0.0   @jupyterlab/rendermime\n",
      ">=3.2.1 <4.0.0          >=4.2.0 <5.0.0   @jupyterlab/services\n",
      "\n",
      "Found compatible version: 0.38.1\n",
      "> \"C:\\Program Files\\nodejs\\npm.CMD\" pack @jupyter-widgets/jupyterlab-manager@0.38.1\n",
      "Node v10.15.3\n",
      "\n",
      "> node C:\\Users\\ishant\\AppData\\Local\\Continuum\\anaconda3\\lib\\site-packages\\jupyterlab\\staging\\yarn.js install\n",
      "> node C:\\Users\\ishant\\AppData\\Local\\Continuum\\anaconda3\\lib\\site-packages\\jupyterlab\\staging\\yarn.js run build\n"
     ]
    }
   ],
   "source": [
    "!jupyter nbextension enable --py widgetsnbextension\n",
    "!jupyter labextension install @jupyter-widgets/jupyterlab-manager"
   ]
  },
  {
   "cell_type": "code",
   "execution_count": null,
   "metadata": {},
   "outputs": [],
   "source": []
  },
  {
   "cell_type": "code",
   "execution_count": null,
   "metadata": {},
   "outputs": [],
   "source": []
  },
  {
   "cell_type": "code",
   "execution_count": null,
   "metadata": {},
   "outputs": [],
   "source": []
  },
  {
   "cell_type": "code",
   "execution_count": null,
   "metadata": {},
   "outputs": [],
   "source": []
  },
  {
   "cell_type": "code",
   "execution_count": null,
   "metadata": {},
   "outputs": [],
   "source": []
  }
 ],
 "metadata": {
  "kernelspec": {
   "display_name": "Python 3",
   "language": "python",
   "name": "python3"
  },
  "language_info": {
   "codemirror_mode": {
    "name": "ipython",
    "version": 3
   },
   "file_extension": ".py",
   "mimetype": "text/x-python",
   "name": "python",
   "nbconvert_exporter": "python",
   "pygments_lexer": "ipython3",
   "version": "3.7.1"
  }
 },
 "nbformat": 4,
 "nbformat_minor": 2
}
