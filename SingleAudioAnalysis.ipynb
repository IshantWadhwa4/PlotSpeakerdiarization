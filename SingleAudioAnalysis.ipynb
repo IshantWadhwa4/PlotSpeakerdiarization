{
 "cells": [
  {
   "cell_type": "code",
   "execution_count": 1,
   "metadata": {},
   "outputs": [],
   "source": []
  },
  {
   "cell_type": "code",
   "execution_count": 4,
   "metadata": {},
   "outputs": [
    {
     "name": "stderr",
     "output_type": "stream",
     "text": [
      "C:\\Users\\ishant\\AppData\\Local\\Continuum\\anaconda3\\lib\\site-packages\\pydub\\utils.py:165: RuntimeWarning: Couldn't find ffmpeg or avconv - defaulting to ffmpeg, but may not work\n",
      "  warn(\"Couldn't find ffmpeg or avconv - defaulting to ffmpeg, but may not work\", RuntimeWarning)\n"
     ]
    }
   ],
   "source": [
    "from pydub import AudioSegment\n",
    "from pydub.utils import make_chunks"
   ]
  },
  {
   "cell_type": "code",
   "execution_count": 3,
   "metadata": {},
   "outputs": [],
   "source": [
    "audiofolderpath = './data/audio'"
   ]
  },
  {
   "cell_type": "code",
   "execution_count": 12,
   "metadata": {},
   "outputs": [],
   "source": [
    "def splitAudioFile(fileName):\n",
    "    filePath = audiofolderpath + '/' + fileName\n",
    "    myaudio = AudioSegment.from_file(  filePath, \"wav\")\n",
    "    fileInfo = getWaveInfo(filePath)\n",
    "    chunk_length_ms = 1000*(fileInfo['Duration']/4)# pydub calculates in millisec\n",
    "    chunks = make_chunks(myaudio, chunk_length_ms) #Make chunks of one sec\n",
    "    chunk_names =[]\n",
    "    for i, chunk in enumerate(chunks):\n",
    "        chunk_name =  \"{0}chunk{1}.wav\".format(fileName.split('.')[0],i)\n",
    "        chunk_path = './chunk/{0}'.format(chunk_name)\n",
    "        chunk_names.append(chunk_path)\n",
    "        chunk.export(chunk_path, format=\"wav\")\n",
    "    return chunk_names\n",
    "\n",
    "    "
   ]
  },
  {
   "cell_type": "code",
   "execution_count": 19,
   "metadata": {},
   "outputs": [],
   "source": [
    "def singleFileAnalysis(singleFileData):\n",
    "    chunk_names = splitAudioFile(singleFileData.FileName)\n",
    "    split_signals = np.array_split(singleFileData.Signal, 4)\n",
    "    split_time = np.array_split(singleFileData.Time, 4)\n",
    "    label_data = np.array_split(singleFileData.Label, 4)\n",
    "    df = pd.DataFrame({'signals':split_signals,'timeStamp':split_time,\n",
    "                       'label':label_data,'chunkNames':chunk_names})\n",
    "    return df\n",
    "    \n",
    "    "
   ]
  },
  {
   "cell_type": "code",
   "execution_count": null,
   "metadata": {},
   "outputs": [],
   "source": []
  }
 ],
 "metadata": {
  "kernelspec": {
   "display_name": "Python 3",
   "language": "python",
   "name": "python3"
  },
  "language_info": {
   "codemirror_mode": {
    "name": "ipython",
    "version": 3
   },
   "file_extension": ".py",
   "mimetype": "text/x-python",
   "name": "python",
   "nbconvert_exporter": "python",
   "pygments_lexer": "ipython3",
   "version": "3.7.1"
  }
 },
 "nbformat": 4,
 "nbformat_minor": 2
}
